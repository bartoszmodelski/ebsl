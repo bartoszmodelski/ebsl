{
 "cells": [
  {
   "cell_type": "markdown",
   "id": "1c0cafd2",
   "metadata": {},
   "source": [
    "# Setup\n",
    "\n",
    "### Find paths"
   ]
  },
  {
   "cell_type": "code",
   "execution_count": 1,
   "id": "29921fe5",
   "metadata": {},
   "outputs": [
    {
     "data": {
      "text/plain": [
       "'/home/bm611/ebsl/benchmark_process_packet.exe'"
      ]
     },
     "execution_count": 1,
     "metadata": {},
     "output_type": "execute_result"
    }
   ],
   "source": [
    "repo_path = !git rev-parse --show-toplevel\n",
    "assert (len(repo_path) == 1)\n",
    "\n",
    "exec_path = repo_path[0] + \"/benchmark_process_packet.exe\"\n",
    "exec_path"
   ]
  },
  {
   "cell_type": "markdown",
   "id": "45085ded",
   "metadata": {},
   "source": [
    "### Run benchmark function"
   ]
  },
  {
   "cell_type": "code",
   "execution_count": 2,
   "id": "a04294c0",
   "metadata": {},
   "outputs": [],
   "source": [
    "import numpy as np\n",
    "import json\n",
    "\n",
    "def run(scheduler,domains=-1,spawners=-1):\n",
    "    cmd = exec_path + \" -scheduler \" + scheduler + \" -num-of-domains \" + str(domains) + \" -num-of-spawners \" + str(spawners) + \" -items-total 50000\"\n",
    "    output = !$cmd\n",
    "    return json.loads(''.join(output))"
   ]
  },
  {
   "cell_type": "code",
   "execution_count": 3,
   "id": "f53d436a",
   "metadata": {},
   "outputs": [],
   "source": [
    "def latency_undo_exp(x):\n",
    "    return 1.2 ** x "
   ]
  },
  {
   "cell_type": "code",
   "execution_count": 4,
   "id": "adf9bb4c",
   "metadata": {},
   "outputs": [],
   "source": [
    "def find_percentile(array, percentile):\n",
    "    assert (0 < percentile and percentile < 1)\n",
    "    \n",
    "    total = np.sum(array)\n",
    "    \n",
    "    percentile_boundary = percentile * total \n",
    "    current_total = 0\n",
    "    for i in range(0,len(array)):\n",
    "        current_total += array[i]\n",
    "        if current_total > percentile_boundary:\n",
    "            return i\n",
    "    \n",
    "    return \"reached the end before finding percentile boundary\"\n",
    "\n",
    "\n",
    "def transform(parsed):\n",
    "    time = [] \n",
    "    latency_half = []\n",
    "    latency_threenine = []\n",
    "    waited_for_space_on_enque = [] \n",
    "    latency = []\n",
    "    latency_q10 = []\n",
    "    latency_q25 = []\n",
    "    latency_q50 = []\n",
    "    latency_q99 = []\n",
    "    latency_q999 = [] \n",
    "    latency_q9999 = []\n",
    "    latency_q99999 = []\n",
    "\n",
    "    for row in parsed['data']:\n",
    "        if row['iteration'] == 1:\n",
    "            continue\n",
    "\n",
    "        time.append(row['time'])\n",
    "        latency_half.append(latency_undo_exp(row['latency_median']))\n",
    "        latency_threenine.append(latency_undo_exp(row['latency_three_nine']))\n",
    "        waited_for_space_on_enque.append(row['waited-for-space-on-enque'])\n",
    "        latency.append(row['latency'])\n",
    "        \n",
    "        latency_q50.append(latency_undo_exp(find_percentile(row['latency'], 0.5)))\n",
    "        latency_q99.append(latency_undo_exp(find_percentile(row['latency'], 0.99)))\n",
    "        latency_q999.append(latency_undo_exp(find_percentile(row['latency'], 0.999)))\n",
    "        latency_q9999.append(latency_undo_exp(find_percentile(row['latency'], 0.9999)))\n",
    "        latency_q99999.append(latency_undo_exp(find_percentile(row['latency'], 0.99999)))\n",
    "                \n",
    "\n",
    "    return {'time':time, \n",
    "            'waited_for_space_on_enque':waited_for_space_on_enque,\n",
    "            'latency':latency,\n",
    "            'latency_q50':latency_q50,\n",
    "            'latency_q99':latency_q99,\n",
    "            'latency_q999':latency_q999,\n",
    "            'latency_q9999':latency_q9999,\n",
    "            'latency_q99999':latency_q99999,\n",
    "            'latency_half':latency_half,\n",
    "            'median_latency_threenine':latency_threenine,\n",
    "           }"
   ]
  },
  {
   "cell_type": "code",
   "execution_count": 5,
   "id": "7bbf4ce0",
   "metadata": {},
   "outputs": [],
   "source": [
    "def to_median_and_errs(array):\n",
    "    median = np.median(array)\n",
    "    lower_err = median - np.quantile(array, 0.25)\n",
    "    upper_err = np.quantile(array, 0.75) - median\n",
    "    return {'median': median, 'lower_err': lower_err, 'upper_err': upper_err}\n",
    "    \n",
    "def add_metrics(data):\n",
    "    data['time-processed'] = to_median_and_errs(data['time'])\n",
    "    data['latency_half-processed'] = to_median_and_errs(data['latency_half'])\n",
    "    data['latency_threenine-processed'] = to_median_and_errs(data['median_latency_threenine'])\n",
    "    data['waited_for_space_on_enque-processed'] = to_median_and_errs(data['waited_for_space_on_enque'])\n",
    "    \n",
    "    data['throughput-processed'] = to_median_and_errs(2000_000_000./np.array(data['time']))\n",
    "    \n",
    "    data['latency_q50-processed'] = to_median_and_errs(data['latency_q50'])\n",
    "    data['latency_q99-processed'] = to_median_and_errs(data['latency_q99'])\n",
    "    data['latency_q999-processed'] = to_median_and_errs(data['latency_q999'])\n",
    "    data['latency_q9999-processed'] = to_median_and_errs(data['latency_q9999'])\n",
    "    data['latency_q99999-processed'] = to_median_and_errs(data['latency_q99999'])\n",
    "    \n",
    "    "
   ]
  },
  {
   "cell_type": "markdown",
   "id": "bc76a5aa",
   "metadata": {},
   "source": [
    "### Find percentiles function"
   ]
  },
  {
   "cell_type": "markdown",
   "id": "ae77afaa",
   "metadata": {},
   "source": [
    "### Plotting"
   ]
  },
  {
   "cell_type": "code",
   "execution_count": 6,
   "id": "cd9037bf",
   "metadata": {},
   "outputs": [],
   "source": [
    "import matplotlib.pyplot as plt\n",
    "plt.rcParams['figure.dpi'] = 200"
   ]
  },
  {
   "cell_type": "code",
   "execution_count": 7,
   "id": "0e4fb154",
   "metadata": {},
   "outputs": [],
   "source": [
    "param_space = range(5,120,5)\n",
    "\n",
    "x = list(param_space)"
   ]
  },
  {
   "cell_type": "markdown",
   "id": "26b728eb",
   "metadata": {},
   "source": [
    "# Experiment 1: simple workload, skewed"
   ]
  },
  {
   "cell_type": "markdown",
   "id": "fa490ebe",
   "metadata": {},
   "source": [
    "## Data collection"
   ]
  },
  {
   "cell_type": "code",
   "execution_count": 8,
   "id": "d5939721",
   "metadata": {},
   "outputs": [],
   "source": [
    "import pickle\n",
    "\n",
    "fifo = None\n",
    "\n",
    "with open('packet_fifo_mln.pickle', 'rb') as handle:\n",
    "    fifo = pickle.load(handle)\n",
    "    \n",
    "\n",
    "lifo = None\n",
    "with open('packet_lifo_mln.pickle', 'rb') as handle:\n",
    "    lifo = pickle.load(handle)\n"
   ]
  },
  {
   "cell_type": "code",
   "execution_count": 9,
   "id": "9c963781",
   "metadata": {},
   "outputs": [],
   "source": [
    "fifo_transformed = []\n",
    "for row in fifo:\n",
    "    fifo_transformed.append(transform(row))\n",
    "    \n",
    "lifo_transformed = []\n",
    "for row in lifo:\n",
    "    lifo_transformed.append(transform(row))"
   ]
  },
  {
   "cell_type": "code",
   "execution_count": 10,
   "id": "73ff74c0",
   "metadata": {},
   "outputs": [],
   "source": [
    "for row in fifo_transformed:\n",
    "    add_metrics(row)\n",
    "for row in lifo_transformed:\n",
    "    add_metrics(row)\n"
   ]
  },
  {
   "cell_type": "markdown",
   "id": "1a980b38",
   "metadata": {},
   "source": [
    "## Analysis"
   ]
  },
  {
   "cell_type": "markdown",
   "id": "70182f35",
   "metadata": {},
   "source": [
    "### Exec time vs number of domains"
   ]
  },
  {
   "cell_type": "code",
   "execution_count": 11,
   "id": "2c6b1b9a",
   "metadata": {},
   "outputs": [],
   "source": [
    "def to_series(data, label):\n",
    "    return [v[label][\"median\"] for v in data]"
   ]
  },
  {
   "cell_type": "code",
   "execution_count": 12,
   "id": "a1e73c45",
   "metadata": {},
   "outputs": [],
   "source": [
    "def plot(x, data, key, name):\n",
    "    y = [v[key][\"median\"] for v in data]\n",
    "    lower_errbar = [v[key][\"lower_err\"] for v in data]\n",
    "    upper_errbar = [v[key][\"upper_err\"] for v in data]\n",
    "    \n",
    "    return ax.errorbar(x, y, [lower_errbar, upper_errbar], label=name)\n",
    "    "
   ]
  },
  {
   "cell_type": "code",
   "execution_count": 13,
   "id": "a841ba95",
   "metadata": {
    "scrolled": false
   },
   "outputs": [
    {
     "data": {
      "image/png": "[encoded data removed]",
      "text/plain": [
       "<Figure size 864x288 with 1 Axes>"
      ]
     },
     "metadata": {
      "needs_background": "light"
     },
     "output_type": "display_data"
    }
   ],
   "source": [
    "size = 1\n",
    "\n",
    "fig, axes = plt.subplots(size, 1, sharex=True)\n",
    "fig.set_size_inches(12, 4 * size)\n",
    "\n",
    "\n",
    "ax = axes\n",
    "\n",
    "#line_lifo, = ax.plot(x, to_series(fifo_transformed, \"time-processed\"), label='FIFO')\n",
    "#line_fifo, = ax.plot(x, to_series(lifo_transformed, \"time-processed\"), label='LIFO')\n",
    "\n",
    "line_lifo = plot(x, fifo_transformed, \"throughput-processed\", 'FIFO')\n",
    "line_fifo = plot(x, lifo_transformed, \"throughput-processed\", 'LIFO')\n",
    "\n",
    "ax.legend(handles=[line_fifo, line_lifo])\n",
    "\n",
    "ax.set_yscale(\"log\")\n",
    "#ax.set_ylim(ymin=1)\n",
    "ax.set_title(\"Task throughput of packet benchmark over varying number of cores (2milion packets) .\") \n",
    "ax.set_ylabel('throughput (task/s)')\n",
    "\n",
    "'''\n",
    "########################\n",
    "## TIME ################\n",
    "########################\n",
    "ax = axes[1]\n",
    "#line_lifo, = ax.plot(x, to_series(fifo_transformed, \"time-processed\"), label='FIFO')\n",
    "#line_fifo, = ax.plot(x, to_series(lifo_transformed, \"time-processed\"), label='LIFO')\n",
    "\n",
    "line_lifo = plot(x, fifo_transformed, \"time-processed\", 'FIFO')\n",
    "line_fifo = plot(x, lifo_transformed, \"time-processed\", 'LIFO')\n",
    "\n",
    "ax.set_ylim(ymin=1)\n",
    "ax.set_title(\"Time to complete the benchmark.\") \n",
    "ax.set_ylabel('execution time (ms)')\n",
    "\n",
    "########################\n",
    "## MEDIAN LATENCY ######\n",
    "########################\n",
    "\n",
    "ax = axes[2]\n",
    "\n",
    "\n",
    "line_lifo = plot(x, fifo_transformed, \"latency_q50-processed\", 'FIFO')\n",
    "line_fifo = plot(x, lifo_transformed, \"latency_q50-processed\", 'LIFO')\n",
    "\n",
    "\n",
    "#ax.set_yscale(\"log\")\n",
    "ax.set_ylim(ymin=1)\n",
    "ax.set_ylabel('latency (μs)')\n",
    "ax.set_title(\"Median latency.\") \n",
    "\n",
    "########################\n",
    "## Q99 LATENCY ######\n",
    "########################\n",
    "\n",
    "ax = axes[3]\n",
    "\n",
    "\n",
    "line_lifo = plot(x, fifo_transformed, \"latency_q999-processed\", 'FIFO')\n",
    "line_fifo = plot(x, lifo_transformed, \"latency_q999-processed\", 'LIFO')\n",
    "\n",
    "#ax.set_yscale(\"log\")\n",
    "ax.set_ylim(ymin=1)\n",
    "ax.set_ylabel('latency (μs)')\n",
    "ax.set_title(\"99.9% percentile latency.\") \n",
    "\n",
    "\n",
    "########################\n",
    "## Q99.9 LATENCY ######\n",
    "########################\n",
    "\n",
    "ax = axes[4]\n",
    "\n",
    "\n",
    "line_lifo = plot(x, fifo_transformed, \"latency_q9999-processed\", 'FIFO')\n",
    "line_fifo = plot(x, lifo_transformed, \"latency_q9999-processed\", 'LIFO')\n",
    "\n",
    "#ax.set_yscale(\"log\")\n",
    "ax.set_ylim(ymin=1)\n",
    "ax.set_ylabel('latency (μs)')\n",
    "ax.set_title(\"99.99% percentile latency.\") \n",
    "\n",
    "########################\n",
    "## WAIT ################\n",
    "########################\n",
    "\n",
    "ax = axes[5]\n",
    "\n",
    "\n",
    "line_lifo = plot(x, fifo_transformed, \"waited_for_space_on_enque-processed\", 'FIFO')\n",
    "line_fifo = plot(x, lifo_transformed, \"waited_for_space_on_enque-processed\", 'LIFO')\n",
    "\n",
    "ax.set_yscale(\"log\")\n",
    "ax.set_ylim(ymin=1)\n",
    "ax.set_xlabel('domains count')\n",
    "ax.set_ylabel('busy-wait loops (count)')\n",
    "ax.set_title(\"Number of retries on task insertion due to lack of space\") \n",
    "'''\n",
    "ax.set_xlabel('domains count')\n",
    "\n",
    "\n",
    "plt.savefig(\"packet-basic-mln-just-throughput.png\", dpi=200)"
   ]
  },
  {
   "cell_type": "code",
   "execution_count": null,
   "id": "95b0b3cc",
   "metadata": {},
   "outputs": [],
   "source": []
  },
  {
   "cell_type": "code",
   "execution_count": null,
   "id": "c6d24635",
   "metadata": {},
   "outputs": [],
   "source": []
  },
  {
   "cell_type": "code",
   "execution_count": null,
   "id": "0fb78dfe",
   "metadata": {},
   "outputs": [],
   "source": []
  }
 ],
 "metadata": {
  "kernelspec": {
   "display_name": "Python 3 (ipykernel)",
   "language": "python",
   "name": "python3"
  },
  "language_info": {
   "codemirror_mode": {
    "name": "ipython",
    "version": 3
   },
   "file_extension": ".py",
   "mimetype": "text/x-python",
   "name": "python",
   "nbconvert_exporter": "python",
   "pygments_lexer": "ipython3",
   "version": "3.10.4"
  }
 },
 "nbformat": 4,
 "nbformat_minor": 5
}
