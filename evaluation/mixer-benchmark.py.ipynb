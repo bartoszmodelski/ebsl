{
 "cells": [
  {
   "cell_type": "markdown",
   "id": "857d5127",
   "metadata": {},
   "source": [
    "# Setup\n",
    "\n",
    "### Find paths"
   ]
  },
  {
   "cell_type": "code",
   "execution_count": 7,
   "id": "f815071e",
   "metadata": {},
   "outputs": [],
   "source": [
    "repo_path = !git rev-parse --show-toplevel\n",
    "assert (len(repo_path) == 1)\n",
    "\n",
    "exec_path = repo_path[0] + \"/_build/default/test/benchmark_mixer.exe\""
   ]
  },
  {
   "cell_type": "markdown",
   "id": "f004040c",
   "metadata": {},
   "source": [
    "### Run benchmark function"
   ]
  },
  {
   "cell_type": "code",
   "execution_count": 11,
   "id": "3e9db271",
   "metadata": {},
   "outputs": [],
   "source": [
    "import numpy as np\n",
    "import json\n",
    "\n",
    "def run(scheduler,domains=-1,spawners=-1):\n",
    "    cmd = exec_path + \" -scheduler \" + scheduler + \" -num-of-domains \" + str(domains) + \" -num-of-spawners \" + str(spawners)\n",
    "    output = !$cmd\n",
    "    assert (output[0][0:5] == \"start\")\n",
    "    assert (output[-1][0:4] == \"done\")\n",
    "    output = output[1:-1]\n",
    "    \n",
    "    grouped_time = [] \n",
    "    grouped_minor_words = []\n",
    "    grouped_major_words = [] \n",
    "    grouped_breach_rate = []\n",
    "    grouped_per_mixer_time = []\n",
    "    \n",
    "    for i in range(1,round(len(output)/6)):\n",
    "        index = i*6\n",
    "        \n",
    "        assert (output[index][:10] == \"iteration:\")\n",
    "        #iteration = int(output[index][10:])\n",
    "        \n",
    "        assert (output[index+1][:5] == \"time:\")\n",
    "        time = int(output[index+1][5:]) \n",
    "        grouped_time.append(time)\n",
    "        \n",
    "        assert (output[index+2][:12] == \"minor_words:\")\n",
    "        minor_words = int(output[index+2][12:]) \n",
    "        grouped_minor_words.append(minor_words)\n",
    "        \n",
    "        assert (output[index+3][:12] == \"major_words:\")\n",
    "        major_words = int(output[index+3][12:]) \n",
    "        grouped_major_words.append(major_words)\n",
    "        \n",
    "        assert (output[index+4][:14] == \"breaches-rate:\")\n",
    "        breach_rate = int(output[index+4][14:]) \n",
    "        grouped_breach_rate.append(breach_rate)\n",
    "        \n",
    "        \n",
    "        \n",
    "        assert (output[index+5][:20] == \"avg-processing-time:\")\n",
    "        per_mixer_time = int(output[index+2][20:])\n",
    "        grouped_per_mixer_time.append(per_mixer_time)\n",
    "        \n",
    "    avg_time = np.mean(grouped_time)\n",
    "    avg_minor_words = np.mean(grouped_minor_words)\n",
    "    avg_major_words = np.mean(grouped_major_words)\n",
    "    avg_breach_rate = np.mean(grouped_breach_rate)\n",
    "    avg_per_mixer_time = np.mean(grouped_per_mixer_time)\n",
    "    \n",
    "    return (avg_time, avg_minor_words, avg_major_words, avg_breach_rate, avg_per_mixer_time)"
   ]
  },
  {
   "cell_type": "markdown",
   "id": "1781ef23",
   "metadata": {},
   "source": [
    "### Plotting"
   ]
  },
  {
   "cell_type": "code",
   "execution_count": 12,
   "id": "7f988b0e",
   "metadata": {},
   "outputs": [],
   "source": [
    "import matplotlib.pyplot as plt\n",
    "plt.rcParams['figure.dpi'] = 150"
   ]
  },
  {
   "cell_type": "markdown",
   "id": "605bd4d0",
   "metadata": {},
   "source": [
    "# Experiment 1: simple workload, skewed"
   ]
  },
  {
   "cell_type": "markdown",
   "id": "dbc55a52",
   "metadata": {},
   "source": [
    "## Data collection"
   ]
  },
  {
   "cell_type": "code",
   "execution_count": 13,
   "id": "8239ec70",
   "metadata": {},
   "outputs": [
    {
     "data": {
      "text/plain": [
       "(1673.5, 371775635.2, 2573153.0, 0.0, 5.2)"
      ]
     },
     "execution_count": 13,
     "metadata": {},
     "output_type": "execute_result"
    }
   ],
   "source": [
    "run(\"FIFO\", domains=3, spawners=4)"
   ]
  },
  {
   "cell_type": "code",
   "execution_count": 5,
   "id": "8b1235da",
   "metadata": {},
   "outputs": [
    {
     "name": "stdout",
     "output_type": "stream",
     "text": [
      "^C\n"
     ]
    },
    {
     "ename": "IndexError",
     "evalue": "list index out of range",
     "output_type": "error",
     "traceback": [
      "\u001b[0;31m---------------------------------------------------------------------------\u001b[0m",
      "\u001b[0;31mIndexError\u001b[0m                                Traceback (most recent call last)",
      "\u001b[0;32m<ipython-input-5-49b30aee9fc1>\u001b[0m in \u001b[0;36m<module>\u001b[0;34m\u001b[0m\n\u001b[1;32m      3\u001b[0m \u001b[0mfifo\u001b[0m \u001b[0;34m=\u001b[0m \u001b[0;34m[\u001b[0m\u001b[0;34m]\u001b[0m\u001b[0;34m\u001b[0m\u001b[0;34m\u001b[0m\u001b[0m\n\u001b[1;32m      4\u001b[0m \u001b[0;32mfor\u001b[0m \u001b[0mi\u001b[0m \u001b[0;32min\u001b[0m \u001b[0mparam_space\u001b[0m\u001b[0;34m:\u001b[0m\u001b[0;34m\u001b[0m\u001b[0;34m\u001b[0m\u001b[0m\n\u001b[0;32m----> 5\u001b[0;31m     \u001b[0mfifo\u001b[0m\u001b[0;34m.\u001b[0m\u001b[0mappend\u001b[0m\u001b[0;34m(\u001b[0m\u001b[0mrun\u001b[0m\u001b[0;34m(\u001b[0m\u001b[0;34m\"FIFO\"\u001b[0m\u001b[0;34m,\u001b[0m \u001b[0mdomains\u001b[0m\u001b[0;34m=\u001b[0m\u001b[0;36m10\u001b[0m\u001b[0;34m,\u001b[0m \u001b[0mspawners\u001b[0m\u001b[0;34m=\u001b[0m\u001b[0;36m10\u001b[0m\u001b[0;34m+\u001b[0m\u001b[0;36m2\u001b[0m\u001b[0;34m*\u001b[0m\u001b[0mi\u001b[0m\u001b[0;34m)\u001b[0m\u001b[0;34m)\u001b[0m\u001b[0;34m\u001b[0m\u001b[0;34m\u001b[0m\u001b[0m\n\u001b[0m\u001b[1;32m      6\u001b[0m \u001b[0;34m\u001b[0m\u001b[0m\n\u001b[1;32m      7\u001b[0m \u001b[0mlifo\u001b[0m \u001b[0;34m=\u001b[0m \u001b[0;34m[\u001b[0m\u001b[0;34m]\u001b[0m\u001b[0;34m\u001b[0m\u001b[0;34m\u001b[0m\u001b[0m\n",
      "\u001b[0;32m<ipython-input-3-c9910b7768c3>\u001b[0m in \u001b[0;36mrun\u001b[0;34m(scheduler, domains, spawners)\u001b[0m\n\u001b[1;32m      5\u001b[0m     \u001b[0mcmd\u001b[0m \u001b[0;34m=\u001b[0m \u001b[0mexec_path\u001b[0m \u001b[0;34m+\u001b[0m \u001b[0;34m\" -scheduler \"\u001b[0m \u001b[0;34m+\u001b[0m \u001b[0mscheduler\u001b[0m \u001b[0;34m+\u001b[0m \u001b[0;34m\" -num-of-domains \"\u001b[0m \u001b[0;34m+\u001b[0m \u001b[0mstr\u001b[0m\u001b[0;34m(\u001b[0m\u001b[0mdomains\u001b[0m\u001b[0;34m)\u001b[0m \u001b[0;34m+\u001b[0m \u001b[0;34m\" -num-of-spawners \"\u001b[0m \u001b[0;34m+\u001b[0m \u001b[0mstr\u001b[0m\u001b[0;34m(\u001b[0m\u001b[0mspawners\u001b[0m\u001b[0;34m)\u001b[0m\u001b[0;34m\u001b[0m\u001b[0;34m\u001b[0m\u001b[0m\n\u001b[1;32m      6\u001b[0m     \u001b[0moutput\u001b[0m \u001b[0;34m=\u001b[0m \u001b[0mget_ipython\u001b[0m\u001b[0;34m(\u001b[0m\u001b[0;34m)\u001b[0m\u001b[0;34m.\u001b[0m\u001b[0mgetoutput\u001b[0m\u001b[0;34m(\u001b[0m\u001b[0;34m'$cmd'\u001b[0m\u001b[0;34m)\u001b[0m\u001b[0;34m\u001b[0m\u001b[0;34m\u001b[0m\u001b[0m\n\u001b[0;32m----> 7\u001b[0;31m     \u001b[0;32massert\u001b[0m \u001b[0;34m(\u001b[0m\u001b[0moutput\u001b[0m\u001b[0;34m[\u001b[0m\u001b[0;36m0\u001b[0m\u001b[0;34m]\u001b[0m\u001b[0;34m[\u001b[0m\u001b[0;36m0\u001b[0m\u001b[0;34m:\u001b[0m\u001b[0;36m5\u001b[0m\u001b[0;34m]\u001b[0m \u001b[0;34m==\u001b[0m \u001b[0;34m\"start\"\u001b[0m\u001b[0;34m)\u001b[0m\u001b[0;34m\u001b[0m\u001b[0;34m\u001b[0m\u001b[0m\n\u001b[0m\u001b[1;32m      8\u001b[0m     \u001b[0;32massert\u001b[0m \u001b[0;34m(\u001b[0m\u001b[0moutput\u001b[0m\u001b[0;34m[\u001b[0m\u001b[0;34m-\u001b[0m\u001b[0;36m1\u001b[0m\u001b[0;34m]\u001b[0m\u001b[0;34m[\u001b[0m\u001b[0;36m0\u001b[0m\u001b[0;34m:\u001b[0m\u001b[0;36m4\u001b[0m\u001b[0;34m]\u001b[0m \u001b[0;34m==\u001b[0m \u001b[0;34m\"done\"\u001b[0m\u001b[0;34m)\u001b[0m\u001b[0;34m\u001b[0m\u001b[0;34m\u001b[0m\u001b[0m\n\u001b[1;32m      9\u001b[0m     \u001b[0moutput\u001b[0m \u001b[0;34m=\u001b[0m \u001b[0moutput\u001b[0m\u001b[0;34m[\u001b[0m\u001b[0;36m1\u001b[0m\u001b[0;34m:\u001b[0m\u001b[0;34m-\u001b[0m\u001b[0;36m1\u001b[0m\u001b[0;34m]\u001b[0m\u001b[0;34m\u001b[0m\u001b[0;34m\u001b[0m\u001b[0m\n",
      "\u001b[0;31mIndexError\u001b[0m: list index out of range"
     ]
    }
   ],
   "source": [
    "param_space = range(1,10)\n",
    "\n",
    "fifo = []\n",
    "for i in param_space:\n",
    "    fifo.append(run(\"FIFO\", domains=10, spawners=10+2*i))\n",
    "\n",
    "lifo = []\n",
    "for i in param_space:\n",
    "    lifo.append(run(\"LIFO\", domains=10, spawners=10+2*i))\n",
    "    \n",
    "x = list(param_space)"
   ]
  }
 ],
 "metadata": {
  "kernelspec": {
   "display_name": "Python 3",
   "language": "python",
   "name": "python3"
  },
  "language_info": {
   "codemirror_mode": {
    "name": "ipython",
    "version": 3
   },
   "file_extension": ".py",
   "mimetype": "text/x-python",
   "name": "python",
   "nbconvert_exporter": "python",
   "pygments_lexer": "ipython3",
   "version": "3.8.8"
  }
 },
 "nbformat": 4,
 "nbformat_minor": 5
}
