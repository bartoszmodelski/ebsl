{
 "cells": [
  {
   "cell_type": "code",
   "execution_count": 92,
   "id": "f815071e",
   "metadata": {},
   "outputs": [],
   "source": [
    "repo_path = !git rev-parse --show-toplevel\n",
    "assert (len(repo_path) == 1)\n",
    "\n",
    "exec_path = repo_path[0] + \"/_build/default/test/benchmark_process_packet.exe\""
   ]
  },
  {
   "cell_type": "code",
   "execution_count": 162,
   "id": "3e9db271",
   "metadata": {},
   "outputs": [],
   "source": [
    "import numpy as np\n",
    "import json\n",
    "\n",
    "def run(scheduler,domains=-1,spawners=-1):\n",
    "    cmd = exec_path + \" -scheduler \" + scheduler + \" -num-of-domains \" + str(domains) + \" -num-of-spawners \" + str(spawners)\n",
    "    output = !$cmd\n",
    "    assert (output[0][0:5] == \"start\")\n",
    "    assert (output[-1][0:4] == \"done\")\n",
    "    output = output[1:-1]\n",
    "    \n",
    "    grouped_time = [] \n",
    "    grouped_latency = []\n",
    "    grouped_executed_tasks = []\n",
    "    \n",
    "    for i in range(1,round(len(output)/4)):\n",
    "        index = i*4\n",
    "        \n",
    "        \n",
    "        #assert (output[index][:10] == \"iteration:\")\n",
    "        #iteration = int(output[index][10:])\n",
    "        assert (output[index+1][:5] == \"time:\")\n",
    "        time = int(output[index+1][5:]) \n",
    "        grouped_time.append(time)\n",
    "        \n",
    "        assert (output[index+2][:8] == \"latency:\")\n",
    "        latency = output[index+2][8:]\n",
    "        grouped_latency.append(json.loads(latency))\n",
    "        \n",
    "        assert (output[index+3][:15] == \"executed-tasks:\")\n",
    "        executed_tasks = output[index+3][15:]\n",
    "        grouped_executed_tasks.append(json.loads(executed_tasks))\n",
    "        \n",
    "        \n",
    "        #grouped.append([iteration, time, np.array(json.loads(latency)),np.array(json.loads(exec_tasks))])\n",
    "        \n",
    "    avg_time = np.mean(grouped_time)\n",
    "    avg_latency = np.mean(grouped_latency,axis=0)\n",
    "    \n",
    "    overall_execution_mean = np.mean(grouped_executed_tasks,axis=1)[0]\n",
    "    execution_dist_err = grouped_executed_tasks - overall_execution_mean\n",
    "    execution_err = np.mean(np.sqrt(np.mean(np.square(execution_dist_err),axis=1)))\n",
    "    \n",
    "    return (avg_time, avg_latency, execution_err)"
   ]
  },
  {
   "cell_type": "code",
   "execution_count": 163,
   "id": "fbcf529a",
   "metadata": {},
   "outputs": [],
   "source": [
    "out = run(\"FIFO\", domains=3, spawners=1)"
   ]
  },
  {
   "cell_type": "code",
   "execution_count": 164,
   "id": "57cb9f57",
   "metadata": {},
   "outputs": [],
   "source": [
    "(grouped_time, grouped_latency, grouped_executed_tasks) = out"
   ]
  },
  {
   "cell_type": "code",
   "execution_count": 165,
   "id": "5511ed46",
   "metadata": {},
   "outputs": [
    {
     "data": {
      "text/plain": [
       "(424.0,\n",
       " array([0.00000e+00, 0.00000e+00, 0.00000e+00, 0.00000e+00, 0.00000e+00,\n",
       "        0.00000e+00, 0.00000e+00, 0.00000e+00, 6.60000e+00, 4.65000e+01,\n",
       "        9.62000e+01, 2.94100e+02, 1.93380e+03, 4.43970e+03, 8.73550e+03,\n",
       "        1.79165e+04, 3.62518e+04, 2.62595e+04, 2.85390e+03, 9.78300e+02,\n",
       "        1.88300e+02, 3.00000e-01, 0.00000e+00, 0.00000e+00, 0.00000e+00,\n",
       "        0.00000e+00, 0.00000e+00, 0.00000e+00, 0.00000e+00, 0.00000e+00,\n",
       "        0.00000e+00, 0.00000e+00]),\n",
       " 5713.636127400552)"
      ]
     },
     "execution_count": 165,
     "metadata": {},
     "output_type": "execute_result"
    }
   ],
   "source": [
    "out"
   ]
  },
  {
   "cell_type": "code",
   "execution_count": 166,
   "id": "3a7106ed",
   "metadata": {},
   "outputs": [],
   "source": [
    "import matplotlib.pyplot as plt"
   ]
  },
  {
   "cell_type": "code",
   "execution_count": null,
   "id": "d339441f",
   "metadata": {},
   "outputs": [],
   "source": []
  }
 ],
 "metadata": {
  "kernelspec": {
   "display_name": "Python 3",
   "language": "python",
   "name": "python3"
  },
  "language_info": {
   "codemirror_mode": {
    "name": "ipython",
    "version": 3
   },
   "file_extension": ".py",
   "mimetype": "text/x-python",
   "name": "python",
   "nbconvert_exporter": "python",
   "pygments_lexer": "ipython3",
   "version": "3.8.8"
  }
 },
 "nbformat": 4,
 "nbformat_minor": 5
}
